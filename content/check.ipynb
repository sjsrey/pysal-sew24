{
 "cells": [
  {
   "cell_type": "code",
   "execution_count": null,
   "id": "abc025b6-9113-4c96-9325-ce09f5b3376f",
   "metadata": {},
   "outputs": [],
   "source": [
    "%load_ext watermark"
   ]
  },
  {
   "cell_type": "code",
   "execution_count": null,
   "id": "ebbb94c9-21f0-4d22-88a7-8e15d0496347",
   "metadata": {},
   "outputs": [],
   "source": [
    "%watermark -v -d -p pysal,geosnap,numba,giddy,quantecon"
   ]
  },
  {
   "cell_type": "code",
   "execution_count": null,
   "id": "5a446987-9b0f-4edf-a747-740bb2bf6c64",
   "metadata": {},
   "outputs": [],
   "source": [
    "import giddy"
   ]
  },
  {
   "cell_type": "code",
   "execution_count": null,
   "id": "63944a36-0614-4fd1-bbd6-c75fab50a71b",
   "metadata": {},
   "outputs": [],
   "source": [
    "import geosnap"
   ]
  },
  {
   "cell_type": "code",
   "execution_count": null,
   "id": "6896fbe9-1ffd-4dbf-8ca8-219aaa35ec20",
   "metadata": {},
   "outputs": [],
   "source": []
  },
  {
   "cell_type": "code",
   "execution_count": null,
   "id": "da24c3ec-fcfe-4053-96dc-0d9c4ab4e60f",
   "metadata": {},
   "outputs": [],
   "source": []
  }
 ],
 "metadata": {
  "kernelspec": {
   "display_name": "Python 3 (ipykernel)",
   "language": "python",
   "name": "python3"
  },
  "language_info": {
   "codemirror_mode": {
    "name": "ipython",
    "version": 3
   },
   "file_extension": ".py",
   "mimetype": "text/x-python",
   "name": "python",
   "nbconvert_exporter": "python",
   "pygments_lexer": "ipython3",
   "version": "3.10.0"
  }
 },
 "nbformat": 4,
 "nbformat_minor": 5
}
