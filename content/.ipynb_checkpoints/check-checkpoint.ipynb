{
 "cells": [
  {
   "cell_type": "code",
   "execution_count": 1,
   "id": "abc025b6-9113-4c96-9325-ce09f5b3376f",
   "metadata": {},
   "outputs": [],
   "source": [
    "%load_ext watermark"
   ]
  },
  {
   "cell_type": "code",
   "execution_count": 2,
   "id": "ebbb94c9-21f0-4d22-88a7-8e15d0496347",
   "metadata": {},
   "outputs": [
    {
     "name": "stderr",
     "output_type": "stream",
     "text": [
      "/home/serge/miniforge3/envs/workshop-pysal-narsc23/lib/python3.10/site-packages/numba/core/decorators.py:262: NumbaDeprecationWarning: \u001b[1mnumba.generated_jit is deprecated. Please see the documentation at: https://numba.readthedocs.io/en/stable/reference/deprecation.html#deprecation-of-generated-jit for more information and advice on a suitable replacement.\u001b[0m\n",
      "  warnings.warn(msg, NumbaDeprecationWarning)\n",
      "/home/serge/miniforge3/envs/workshop-pysal-narsc23/lib/python3.10/site-packages/quantecon/lss.py:20: NumbaDeprecationWarning: \u001b[1mThe 'nopython' keyword argument was not supplied to the 'numba.jit' decorator. The implicit default value for this argument is currently False, but it will be changed to True in Numba 0.59.0. See https://numba.readthedocs.io/en/stable/reference/deprecation.html#deprecation-of-object-mode-fall-back-behaviour-when-using-jit for details.\u001b[0m\n",
      "  def simulate_linear_model(A, x0, v, ts_length):\n"
     ]
    },
    {
     "name": "stdout",
     "output_type": "stream",
     "text": [
      "Python implementation: CPython\n",
      "Python version       : 3.10.0\n",
      "IPython version      : 8.17.2\n",
      "\n",
      "pysal  : 23.7\n",
      "geosnap: 0.12.0\n",
      "numba  : 0.58.1\n",
      "giddy  : 2.3.4\n",
      "\n"
     ]
    }
   ],
   "source": [
    "%watermark -v -d -p pysal,geosnap,numba,giddy"
   ]
  },
  {
   "cell_type": "code",
   "execution_count": 3,
   "id": "5a446987-9b0f-4edf-a747-740bb2bf6c64",
   "metadata": {},
   "outputs": [],
   "source": [
    "import giddy"
   ]
  },
  {
   "cell_type": "code",
   "execution_count": 4,
   "id": "63944a36-0614-4fd1-bbd6-c75fab50a71b",
   "metadata": {},
   "outputs": [],
   "source": [
    "import geosnap"
   ]
  },
  {
   "cell_type": "code",
   "execution_count": null,
   "id": "6896fbe9-1ffd-4dbf-8ca8-219aaa35ec20",
   "metadata": {},
   "outputs": [],
   "source": []
  },
  {
   "cell_type": "code",
   "execution_count": null,
   "id": "da24c3ec-fcfe-4053-96dc-0d9c4ab4e60f",
   "metadata": {},
   "outputs": [],
   "source": []
  }
 ],
 "metadata": {
  "kernelspec": {
   "display_name": "Python 3 (ipykernel)",
   "language": "python",
   "name": "python3"
  },
  "language_info": {
   "codemirror_mode": {
    "name": "ipython",
    "version": 3
   },
   "file_extension": ".py",
   "mimetype": "text/x-python",
   "name": "python",
   "nbconvert_exporter": "python",
   "pygments_lexer": "ipython3",
   "version": "3.10.0"
  }
 },
 "nbformat": 4,
 "nbformat_minor": 5
}
